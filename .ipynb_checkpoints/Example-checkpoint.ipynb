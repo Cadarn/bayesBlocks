{
 "cells": [
  {
   "cell_type": "markdown",
   "metadata": {},
   "source": [
    "# Bayesian Blocks\n",
    "## A Python implementation that incorporates multiple independent time series\n",
    "\n",
    "This is a python implementation of:\n",
    "> Studies in Astronomical Time Series Analysis. VI. Bayesian Block Representations:\n",
    "> *Jeffrey D. Scargle, Jay P. Norris, Brad Jackson, James Chiang* - \n",
    "> [Link](http://arxiv.org/abs/1207.5578)\n",
    "\n",
    "It is based upon the example MATLAB code and the underlying mathematical description of the algorithm in the paper. The code has been tested in Python 2.7 and 3.5. It is still in development as while the analysis is easy to perform on a single time-series, it is not 'user-friendly' to deploy it on multiple timeseries at this time. "
   ]
  },
  {
   "cell_type": "markdown",
   "metadata": {},
   "source": [
    "### Example 1: Built in test using example data\n",
    "This is test checks everything is running as expected but doesn't expose the specifics of how to run a Bayesian blocks analysis"
   ]
  },
  {
   "cell_type": "code",
   "execution_count": 1,
   "metadata": {
    "collapsed": false
   },
   "outputs": [],
   "source": [
    "import BayesBlocks as bb"
   ]
  },
  {
   "cell_type": "code",
   "execution_count": 2,
   "metadata": {
    "collapsed": false
   },
   "outputs": [
    {
     "name": "stdout",
     "output_type": "stream",
     "text": [
      "Input data processed ready for Bayesian Block calculation ...\n",
      "Using a FAP of 0.050000 equates to a changepoint prior of 7.443134\n",
      "Block fitness function assessed ...\n",
      "Changepoints recovered ...\n",
      "Post processing complete...\n",
      "==============\n",
      "Analysis of input data has found that it is optimally segemented into 14 blocks\n",
      "[    0  1751  3001  3247  4577  5013  6565  8172  9393 10813 11635 12114\n",
      " 16867 20474]\n"
     ]
    },
    {
     "data": {
      "image/png": "[encoded data removed]",
      "text/plain": [
       "<matplotlib.figure.Figure at 0x117fc68d0>"
      ]
     },
     "metadata": {},
     "output_type": "display_data"
    }
   ],
   "source": [
    "%matplotlib inline\n",
    "subDF, myBlocks = bb.testBayes()"
   ]
  }
 ],
 "metadata": {
  "kernelspec": {
   "display_name": "Python 3",
   "language": "python",
   "name": "python3"
  },
  "language_info": {
   "codemirror_mode": {
    "name": "ipython",
    "version": 3
   },
   "file_extension": ".py",
   "mimetype": "text/x-python",
   "name": "python",
   "nbconvert_exporter": "python",
   "pygments_lexer": "ipython3",
   "version": "3.5.1"
  },
  "widgets": {
   "state": {},
   "version": "1.1.1"
  }
 },
 "nbformat": 4,
 "nbformat_minor": 0
}
